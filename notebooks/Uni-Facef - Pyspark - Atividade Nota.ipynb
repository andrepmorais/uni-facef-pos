{
 "cells": [
  {
   "cell_type": "markdown",
   "metadata": {},
   "source": [
    "# <font color='blue'>Uni-Facef - Pyspark - Atividade</font>"
   ]
  },
  {
   "cell_type": "markdown",
   "metadata": {},
   "source": [
    "Essa atividade tem como objetivo descobrir um pouco mais sobre o cliente e traçar um perfil do mesmo. Visto que temos as informações pessoais do cliemte em um arquivo chamado \"cliente_fake.csv\", e os dados transacionais desse cliente no arquivo chamado \"venda_fake\". E idéia do exercicio é a manipulação dos dados de forma a fazer agregações, join nos dados, podendo ser necessário o uso de UDFs, gerando um Dataframe Final:\n",
    "\n",
    "#### O Dataframe final deve estar agrupado por cliente (cliente_id), e conter as seguintes informações:\n",
    "\n",
    "- cliente_id - O identificador do cliente\n",
    "- idade - Calcular a idade do cliente (valor inteiro)\n",
    "- recencia - Calcular a quantos meses faz que o cliente não compra (valor inteiro)\n",
    "- qt_total_compras - Quantidade total de compras (pedidos distintos)\n",
    "- vr_total_compras = Valor total de compras do cliente\n",
    "- qt_total_itens - Quantidade total de itens comprados pelo cliente (produto_id distintos)\n",
    "- qt_max_parcelas - Quantidade máxima de parcelas que o cliente já utilizou\n",
    "- perfil_cliente - Deve mostrar o perfil de compra desse cliente, se compra somente \"loja\" ou somente \"online\", ou em ambos \"multicanal\";\n",
    "\n",
    "OBS: O dataset \"venda_fake\" está a nível de itens. Pode haver mais de um item por pedido, ito é, o numero do pedido pode estar duplicado nodataset. \n"
   ]
  },
  {
   "cell_type": "code",
   "execution_count": null,
   "metadata": {},
   "outputs": [],
   "source": [
    "!pip install pyspark"
   ]
  },
  {
   "cell_type": "code",
   "execution_count": null,
   "metadata": {},
   "outputs": [],
   "source": [
    "# coding: utf-8\n",
    "from pyspark.sql import SparkSession"
   ]
  },
  {
   "cell_type": "code",
   "execution_count": null,
   "metadata": {},
   "outputs": [],
   "source": [
    "spark = SparkSession.builder \\\n",
    "    .appName('ConhecendoCliente') \\\n",
    "    .getOrCreate()"
   ]
  },
  {
   "cell_type": "markdown",
   "metadata": {},
   "source": [
    "#### Dataset de cliente"
   ]
  },
  {
   "cell_type": "code",
   "execution_count": null,
   "metadata": {},
   "outputs": [],
   "source": [
    "df_cliente = spark.read \\\n",
    "    .option(\"delimiter\", \"|\") \\\n",
    "    .csv('cliente_fake.csv', header=True)\n",
    "\n",
    "df_cliente.show()"
   ]
  },
  {
   "cell_type": "markdown",
   "metadata": {},
   "source": [
    "#### Dataset de pedido"
   ]
  },
  {
   "cell_type": "code",
   "execution_count": null,
   "metadata": {},
   "outputs": [],
   "source": [
    "df_venda = spark.read \\\n",
    "    .option(\"delimiter\", \"|\") \\\n",
    "    .csv('venda_fake.csv', header=True)\n",
    "\n",
    "df_venda.show()"
   ]
  },
  {
   "cell_type": "code",
   "execution_count": null,
   "metadata": {},
   "outputs": [],
   "source": []
  }
 ],
 "metadata": {
  "kernelspec": {
   "display_name": "Python 3",
   "language": "python",
   "name": "python3"
  },
  "language_info": {
   "codemirror_mode": {
    "name": "ipython",
    "version": 3
   },
   "file_extension": ".py",
   "mimetype": "text/x-python",
   "name": "python",
   "nbconvert_exporter": "python",
   "pygments_lexer": "ipython3",
   "version": "3.7.3"
  }
 },
 "nbformat": 4,
 "nbformat_minor": 2
}
